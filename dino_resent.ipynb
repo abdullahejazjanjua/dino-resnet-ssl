{
  "nbformat": 4,
  "nbformat_minor": 0,
  "metadata": {
    "colab": {
      "provenance": [],
      "gpuType": "T4"
    },
    "kernelspec": {
      "name": "python3",
      "display_name": "Python 3"
    },
    "language_info": {
      "name": "python"
    },
    "accelerator": "GPU"
  },
  "cells": [
    {
      "cell_type": "code",
      "execution_count": 1,
      "metadata": {
        "colab": {
          "base_uri": "https://localhost:8080/"
        },
        "id": "iCKyr5ex9kn8",
        "outputId": "acde5518-1b2f-4abd-c3de-a3bd503d0109"
      },
      "outputs": [
        {
          "output_type": "stream",
          "name": "stdout",
          "text": [
            "Drive already mounted at /content/drive; to attempt to forcibly remount, call drive.mount(\"/content/drive\", force_remount=True).\n"
          ]
        }
      ],
      "source": [
        "from google.colab import drive\n",
        "drive.mount('/content/drive')"
      ]
    },
    {
      "cell_type": "code",
      "source": [
        "%cd /content/drive/MyDrive/resnet/dino/\n",
        "!python main.py --device \"cuda\"  --dataset_path \"/content/tiny-imagenet/tiny-imagenet-200/tiny-imagenet-200\""
      ],
      "metadata": {
        "colab": {
          "base_uri": "https://localhost:8080/"
        },
        "id": "dI_H3ujN90fI",
        "outputId": "8a38e08c-9164-46de-d412-677723e49977"
      },
      "execution_count": 2,
      "outputs": [
        {
          "output_type": "stream",
          "name": "stdout",
          "text": [
            "/content/drive/MyDrive/resnet/dino\n",
            "Epoch: [0] 0/3125 avg_loss: 19.31, running_loss: 19.31\n",
            "Epoch: [0] 100/3125 avg_loss: 54.24, running_loss: 5478.66\n",
            "Epoch: [0] 200/3125 avg_loss: 52.24, running_loss: 10500.18\n",
            "Epoch: [0] 300/3125 avg_loss: 46.06, running_loss: 13864.29\n",
            "Epoch: [0] 400/3125 avg_loss: 40.48, running_loss: 16233.82\n",
            "Epoch: [0] 500/3125 avg_loss: 35.94, running_loss: 18006.01\n",
            "Epoch: [0] 600/3125 avg_loss: 32.28, running_loss: 19399.26\n",
            "Epoch: [0] 700/3125 avg_loss: 29.28, running_loss: 20526.38\n",
            "Epoch: [0] 800/3125 avg_loss: 26.74, running_loss: 21416.73\n",
            "Epoch: [0] 900/3125 avg_loss: 24.59, running_loss: 22158.54\n",
            "Epoch: [0] 1000/3125 avg_loss: 22.84, running_loss: 22863.60\n",
            "Epoch: [0] 1100/3125 avg_loss: 21.40, running_loss: 23560.69\n",
            "Epoch: [0] 1200/3125 avg_loss: 20.20, running_loss: 24255.50\n",
            "Epoch: [0] 1300/3125 avg_loss: 19.18, running_loss: 24949.51\n",
            "Epoch: [0] 1400/3125 avg_loss: 18.30, running_loss: 25643.20\n",
            "Epoch: [0] 1500/3125 avg_loss: 17.55, running_loss: 26336.75\n",
            "Epoch: [0] 1600/3125 avg_loss: 16.88, running_loss: 27030.25\n",
            "Epoch: [0] 1700/3125 avg_loss: 16.30, running_loss: 27723.72\n",
            "Epoch: [0] 1800/3125 avg_loss: 15.78, running_loss: 28417.19\n",
            "Epoch: [0] 1900/3125 avg_loss: 15.31, running_loss: 29110.64\n",
            "Epoch: [0] 2000/3125 avg_loss: 14.89, running_loss: 29804.08\n",
            "Epoch: [0] 2100/3125 avg_loss: 14.52, running_loss: 30497.53\n",
            "Epoch: [0] 2200/3125 avg_loss: 14.17, running_loss: 31190.97\n",
            "Epoch: [0] 2300/3125 avg_loss: 13.86, running_loss: 31884.42\n",
            "Epoch: [0] 2400/3125 avg_loss: 13.57, running_loss: 32577.86\n",
            "Epoch: [0] 2500/3125 avg_loss: 13.30, running_loss: 33271.30\n",
            "Epoch: [0] 2600/3125 avg_loss: 13.06, running_loss: 33964.74\n",
            "Epoch: [0] 2700/3125 avg_loss: 12.83, running_loss: 34658.18\n",
            "Epoch: [0] 2800/3125 avg_loss: 12.62, running_loss: 35351.61\n",
            "Epoch: [0] 2900/3125 avg_loss: 12.43, running_loss: 36045.04\n",
            "Epoch: [0] 3000/3125 avg_loss: 12.24, running_loss: 36738.47\n",
            "Epoch: [0] 3100/3125 avg_loss: 12.07, running_loss: 37431.88\n",
            "Epoch: [1] 0/3125 avg_loss: 6.93, running_loss: 6.93\n",
            "Epoch: [1] 100/3125 avg_loss: 6.93, running_loss: 700.35\n",
            "Epoch: [1] 200/3125 avg_loss: 6.93, running_loss: 1393.75\n",
            "Epoch: [1] 300/3125 avg_loss: 6.93, running_loss: 2087.16\n",
            "Epoch: [1] 400/3125 avg_loss: 6.93, running_loss: 2780.55\n",
            "Epoch: [1] 500/3125 avg_loss: 6.93, running_loss: 3473.94\n",
            "Traceback (most recent call last):\n",
            "  File \"/content/drive/MyDrive/resnet/dino/main.py\", line 96, in <module>\n",
            "    main(args)\n",
            "  File \"/content/drive/MyDrive/resnet/dino/main.py\", line 77, in main\n",
            "    solver.train()\n",
            "  File \"/content/drive/MyDrive/resnet/dino/utils/engine.py\", line 71, in train\n",
            "    losses.append(loss.item())\n",
            "                  ^^^^^^^^^^^\n",
            "KeyboardInterrupt\n"
          ]
        }
      ]
    }
  ]
}